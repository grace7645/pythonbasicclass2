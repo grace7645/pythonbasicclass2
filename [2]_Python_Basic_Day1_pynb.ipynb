{
  "nbformat": 4,
  "nbformat_minor": 0,
  "metadata": {
    "colab": {
      "name": "[2] Python Basic Day1.pynb",
      "provenance": [],
      "collapsed_sections": [],
      "authorship_tag": "ABX9TyNWKZFN0vYr0uVKMy0SFPcK",
      "include_colab_link": true
    },
    "kernelspec": {
      "name": "python3",
      "display_name": "Python 3"
    },
    "language_info": {
      "name": "python"
    }
  },
  "cells": [
    {
      "cell_type": "markdown",
      "metadata": {
        "id": "view-in-github",
        "colab_type": "text"
      },
      "source": [
        "<a href=\"https://colab.research.google.com/github/grace7645/pythonbasicclass2/blob/main/%5B2%5D_Python_Basic_Day1_pynb.ipynb\" target=\"_parent\"><img src=\"https://colab.research.google.com/assets/colab-badge.svg\" alt=\"Open In Colab\"/></a>"
      ]
    },
    {
      "cell_type": "code",
      "source": [
        "# 파이썬이란!!!\n",
        "\n",
        "# 1991년 네덜란드 '귀도 반 로섬'에 의해 개발된 언어.   \n",
        "# 원래 '비단뱀'이라는 뜻을 가지고 있어 대부분의 로고 등을 뱀으로 나타낸다.  \n",
        "\n",
        "# ==> 한번에 주석 처리하고 싶을 때 해당부분 드래그 후 commanand + / 누르기"
      ],
      "metadata": {
        "id": "GsASswKR6BlE"
      },
      "execution_count": 24,
      "outputs": []
    },
    {
      "cell_type": "code",
      "source": [
        "# # 파이썬의 특징\n",
        "\n",
        "# 1) 파이썬은 인터프리터 언어이다. (컴파일러가 아님) \n",
        "# 인터프리터란 한줄 한줄 실행되어 실행된 부분을 바로 알 수 있음\n",
        "\n",
        "# 2) 플랫폼에 독립적읻. (맥, 윈도우 등 안가림)\n",
        "\n",
        "# 3)객체 지향 언어이다. \n",
        "\n",
        "# 4) 동적 타이핑 언어이다. \n",
        "\n",
        "# 5) 개발 속도가 빠르다.\n",
        "\n",
        "# *개발 환경 - web : colab, local : Anaconda or vs code"
      ],
      "metadata": {
        "id": "lcmGK0I06oaD"
      },
      "execution_count": 23,
      "outputs": []
    },
    {
      "cell_type": "code",
      "source": [
        "# 주석 comment\n",
        "# 코드에 설명을 작성하는 부분\n",
        "# 주석은 프로그램 실행에 전혀 영향을 주지 않는다.\n",
        "# 주석은 '#' 기호를 사용하거나 '''내용''' or \"\"\"내용\"\"\"(삼중따옴표) 로 쓴다.\n",
        "\n",
        "'''\n",
        "파일명 : Ex02-1, py\n",
        "개요 : 반지름을 전달하면 원의 넓이를 반환\n",
        "작성자 : 홍길동\n",
        "작성일 : 2020-0825\n",
        "'''\n",
        "# --> <Docstring> 여러줄을 주석'처럼' 만들 때 사용 (진짜 주석은 아님. 컴퓨터에서 읽음)\n",
        "\n",
        "\n",
        "\n",
        "\n",
        "# math 모듈 포함\n",
        "import math\n",
        "\n",
        "def get_area(radius):\n",
        "  '''반지름을 입력받아 원의 넓이를 반환하는 get area()함수'''\n",
        "  area = math.pi * math.pow(radius,2)\n",
        "  return area\n",
        "\n",
        "radius = 1.5\n",
        "# get_area() 함수 호출 결과를 area 변수에 저장\n",
        "area = get_area(radius)\n",
        "print(area) #area를 출력한다.\n",
        "print(get_area.__doc__)\n"
      ],
      "metadata": {
        "colab": {
          "base_uri": "https://localhost:8080/"
        },
        "id": "lSwopv-06BAb",
        "outputId": "65d2119a-3db3-499b-e870-3184bf4b640c"
      },
      "execution_count": 7,
      "outputs": [
        {
          "output_type": "stream",
          "name": "stdout",
          "text": [
            "7.0685834705770345\n",
            "반지름을 입력받아 원의 넓이를 반환하는 get area()함수\n"
          ]
        }
      ]
    },
    {
      "cell_type": "code",
      "source": [
        "# 변수 variable\n",
        "\n",
        "# 어떤 데이터를 저장할 때 사용되는 저장소\n",
        "\n",
        "score = 100       # score 라는 이름의 변수에 100을 넣는다.\n",
        "print(score)\n",
        "\n",
        "#변수 이름 생성 규칙\n",
        "# 1. 영문, 한글, 숫자, 밑줄로 구성된다. (그러나 한글은 변수명으로 사용하지 말자)\n",
        "# 2. 특수문자는 사용할 수 없다. ($, /, ^ 등)\n",
        "# 3. 대문자와 소문자는 구분한다.\n",
        "# 4. 변수명의 첫 문자에 숫자를 쓸 수 없다. (a2는 가능, 2a는 불가)\n",
        "# 5. 예약어 (키워드)는 사용할 수 없다. (문법에 사용하는 단어들 불가)\n",
        "\n",
        "# * 가급적 소문자로만 만든다.\n",
        "# * 가급적 한글은 사용하지 말자.\n",
        "# * 가급적 의미있는 단어를 사용하자."
      ],
      "metadata": {
        "colab": {
          "base_uri": "https://localhost:8080/"
        },
        "id": "GGfoK1OJ_LdN",
        "outputId": "7bd42bc7-11ef-49bb-bba7-e58819708ca2"
      },
      "execution_count": 21,
      "outputs": [
        {
          "output_type": "stream",
          "name": "stdout",
          "text": [
            "100\n"
          ]
        }
      ]
    },
    {
      "cell_type": "code",
      "source": [
        "name = 'Alice'\n",
        "age = 25\n",
        "address = '''우편번호 12345\n",
        "서울시 영등포구 여의도동\n",
        "서울빌딩 501호'''\n",
        "boyfriend = None\n",
        "height = 168.5\n",
        "\n",
        "print(name)\n",
        "print(age)\n",
        "print(address)\n",
        "print(boyfriend)\n",
        "print(height)"
      ],
      "metadata": {
        "colab": {
          "base_uri": "https://localhost:8080/"
        },
        "id": "OQq3y_ADH_EO",
        "outputId": "fb34884a-6e51-4cbe-8ebf-a69bab84a001"
      },
      "execution_count": 22,
      "outputs": [
        {
          "output_type": "stream",
          "name": "stdout",
          "text": [
            "Alice\n",
            "25\n",
            "우편번호 12345\n",
            "서울시 영등포구 여의도동\n",
            "서울빌딩 501호\n",
            "None\n",
            "168.5\n"
          ]
        }
      ]
    }
  ]
}