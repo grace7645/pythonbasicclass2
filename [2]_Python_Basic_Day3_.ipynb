{
  "nbformat": 4,
  "nbformat_minor": 0,
  "metadata": {
    "colab": {
      "name": "[2] Python Basic Day3 .ipynb",
      "provenance": [],
      "collapsed_sections": [],
      "authorship_tag": "ABX9TyPEUm9dZ4WY3hUy9Kj3jl3/",
      "include_colab_link": true
    },
    "kernelspec": {
      "name": "python3",
      "display_name": "Python 3"
    },
    "language_info": {
      "name": "python"
    }
  },
  "cells": [
    {
      "cell_type": "markdown",
      "metadata": {
        "id": "view-in-github",
        "colab_type": "text"
      },
      "source": [
        "<a href=\"https://colab.research.google.com/github/grace7645/pythonbasicclass2/blob/main/%5B2%5D_Python_Basic_Day3_.ipynb\" target=\"_parent\"><img src=\"https://colab.research.google.com/assets/colab-badge.svg\" alt=\"Open In Colab\"/></a>"
      ]
    },
    {
      "cell_type": "code",
      "execution_count": null,
      "metadata": {
        "id": "piQrzhvFSfiI"
      },
      "outputs": [],
      "source": [
        "# list tuple dict set\n",
        "\n",
        "#                 몇번째      몇글자      삭제, 수정, 삽입..\n",
        "# list    []    indexing / slicing    mutable(del, ins)   [1]\n",
        "# tuple   ()    indexing / slicing    immutable           (1,)\n",
        "# dict    {}          X (undrdered)   mutable(del, ins)   {'key':'value'}\n",
        "# set     {}          X (undrdered)   mutable(del, ins)   {1,2,3}"
      ]
    },
    {
      "cell_type": "markdown",
      "source": [
        "#문제   \n",
        "교재 p.49"
      ],
      "metadata": {
        "id": "suSjPn3TVhtj"
      }
    },
    {
      "cell_type": "code",
      "source": [
        "#1\n",
        "# 내가한거\n",
        "num = '31025'\n",
        "\n",
        "a = num[0]\n",
        "b = num[1:3]\n",
        "c = num[3:]\n",
        "\n",
        "print(a,'학년', b,'반', c,'번')\n",
        "\n",
        "\n",
        "# 강사님이랑 한거\n",
        "no = '31025'\n",
        "\n",
        "a = no[0]    # indexing\n",
        "b = no[1:3]  # slicing\n",
        "c = no[3:]   # slicing\n",
        "\n",
        "print(a,'학년', b,'반', c,'번')\n",
        "print(f'{a}학년 {b}반 {c}번')    # f 스트링"
      ],
      "metadata": {
        "id": "yUcGDaHfTGxo",
        "colab": {
          "base_uri": "https://localhost:8080/"
        },
        "outputId": "3fa4ad7e-303b-4107-f55c-682dbfaacc4a"
      },
      "execution_count": 10,
      "outputs": [
        {
          "output_type": "stream",
          "name": "stdout",
          "text": [
            "3 학년 10 반 25 번\n",
            "3 학년 10 반 25 번\n",
            "3학년 10반 25번\n"
          ]
        }
      ]
    },
    {
      "cell_type": "code",
      "source": [
        "#2\n",
        "# 내가한거\n",
        "car = input('전체 차량번호를 입력해주세요 : ')\n",
        "\n",
        "print(car,'의 차량번호 4자리는', car[-4:],'입니다.')\n",
        "\n",
        "\n",
        "# 강사님이랑 한거\n",
        "no = '서울2가1234'\n",
        "no4 = no[-4:]\n",
        "print(no,'의 차량번호 4자리는', no4, '입니다.')\n",
        "print(f'{no}의 차량번호 4자리는 {no4}입니다.')"
      ],
      "metadata": {
        "colab": {
          "base_uri": "https://localhost:8080/"
        },
        "id": "BACvmHAxdDjl",
        "outputId": "2edf5a91-01ae-4460-b187-2d7fa2e7b154"
      },
      "execution_count": 18,
      "outputs": [
        {
          "output_type": "stream",
          "name": "stdout",
          "text": [
            "전체 차량번호를 입력해주세요 : 서울2가123\n",
            "서울2가123 의 차량번호 4자리는 가123 입니다.\n",
            "서울2가1234 의 차량번호 4자리는 1234 입니다.\n",
            "서울2가1234의 차량번호 4자리는 1234입니다.\n"
          ]
        }
      ]
    },
    {
      "cell_type": "code",
      "source": [
        "#3\n",
        "# 내가한거\n",
        "s = 'maple'\n",
        "print(f'{s}의 가운데 글자는 {s[2]}입니다.')\n",
        "\n",
        "\n",
        "# 강사님이랑 한거\n",
        "s = 'maple'    # 가운데 p 출력\n",
        "center = s[len(s)//2]   \n",
        "# len() 함수는 그 문자가 몇글자인지 세주는 함수\n",
        "# // 나머지를 버리고 몫만 취한다\n",
        "# %  몫은 버리고 나머지만 취한다 (홀수/짝수/배수 구할 때 용이)\n",
        "\n",
        "print(s,'의 가운데 글자는',center,'입니다.')\n",
        "print(f'{s}의 가운데 글자는 {center}입니다.')"
      ],
      "metadata": {
        "colab": {
          "base_uri": "https://localhost:8080/"
        },
        "id": "JUj5Bml5dCS7",
        "outputId": "9334914d-e6ce-48a2-9366-b118112e852c"
      },
      "execution_count": 36,
      "outputs": [
        {
          "output_type": "stream",
          "name": "stdout",
          "text": [
            "maple의 가운데 글자는 p입니다.\n",
            "maple 의 가운데 글자는 p 입니다.\n",
            "maple의 가운데 글자는 p입니다.\n"
          ]
        }
      ]
    },
    {
      "cell_type": "code",
      "source": [
        "#4\n",
        "# 내가한거\n",
        "li = [10,20,30,40,50,60,70,80,90,100]\n",
        "\n",
        "print('3번째 요소부터 7번째 요소 =', li[2:7])\n",
        "print('3번째 요소부터 7번째 요소 중 2번째 요소 =', li[2:7][1])\n",
        "\n",
        "\n",
        "# 강사님이랑 한거\n",
        "li1 = [10,20,30,40,50,60,70,80,90,100]\n",
        "\n",
        "print('3번째 요소부터 7번째 요소 =',li1[2:7])\n",
        "print('3번째 요소부터 7번째 요소 중 2번째 요소 =',li1[2:7][1])"
      ],
      "metadata": {
        "colab": {
          "base_uri": "https://localhost:8080/"
        },
        "id": "2VJi7lEBdBF1",
        "outputId": "9a75f491-90e6-4a83-f6a7-aa81a249b24d"
      },
      "execution_count": 38,
      "outputs": [
        {
          "output_type": "stream",
          "name": "stdout",
          "text": [
            "3번째 요소부터 7번째 요소 = [30, 40, 50, 60, 70]\n",
            "3번째 요소부터 7번째 요소 중 2번째 요소 = 40\n",
            "3번째 요소부터 7번째 요소 = [30, 40, 50, 60, 70]\n",
            "3번째 요소부터 7번째 요소 중 2번째 요소 = 40\n"
          ]
        }
      ]
    },
    {
      "cell_type": "code",
      "source": [
        "#5\n",
        "# 내가한거\n",
        "d = {'금요일':'탕수육','토요일':'유산슬','일요일':'팔보채'}\n",
        "\n",
        "print('금요일 :',d['금요일'])\n",
        "print('토요일 :',d['토요일'])\n",
        "print('일요일 :',d['일요일'])\n",
        "\n",
        "\n",
        "# 강사님이랑 한거\n",
        "dict = {'금요일':'탕수육',\n",
        "        '토요일':'유산슬',\n",
        "        '일요일':'팔보채'}\n",
        "\n",
        "print('금요일 :',dict['금요일'])\n",
        "print('토요일 :',dict['토요일'])\n",
        "print('일요일 :',dict['일요일'])"
      ],
      "metadata": {
        "id": "9VZ9XqIwVzNe",
        "colab": {
          "base_uri": "https://localhost:8080/"
        },
        "outputId": "f9e37e41-d1c0-49f0-f1c3-a374cbd702ce"
      },
      "execution_count": 39,
      "outputs": [
        {
          "output_type": "stream",
          "name": "stdout",
          "text": [
            "금요일 : 탕수육\n",
            "토요일 : 유산슬\n",
            "일요일 : 팔보채\n",
            "금요일 : 탕수육\n",
            "토요일 : 유산슬\n",
            "일요일 : 팔보채\n"
          ]
        }
      ]
    },
    {
      "cell_type": "code",
      "source": [
        "# p.52\n",
        "# 이스케이프 문자\n",
        "# \\   따옴표의 기능을 무력화시키고 글자로 표현\n",
        "# \\n  줄바꿈  line feed\n",
        "# \\t  탭     tab\n",
        "\n",
        "print('Hello \\'World\\'')\n",
        "print(\"Hello 'World'\")\n",
        "\n",
        "print(\"Hello \\\"World\\\"\")\n",
        "print('Hello \"World\"')\n",
        "\n",
        "print('*\\n**\\n***')\n",
        "print('''*\n",
        "**\n",
        "***''')\n",
        "\n",
        "print('Hello\\nWorld')\n",
        "\n",
        "print('이름\\t연락처')\n",
        "print('제시카\\t02-123-4567')\n",
        "print('마틴\\t010-8765-4321')"
      ],
      "metadata": {
        "colab": {
          "base_uri": "https://localhost:8080/"
        },
        "id": "cgjCfx7qDCTC",
        "outputId": "a665c1dc-7c0c-4bde-e56a-c23cf2784e94"
      },
      "execution_count": 13,
      "outputs": [
        {
          "output_type": "stream",
          "name": "stdout",
          "text": [
            "Hello 'World'\n",
            "Hello 'World'\n",
            "Hello \"World\"\n",
            "Hello \"World\"\n",
            "*\n",
            "**\n",
            "***\n",
            "*\n",
            "**\n",
            "***\n",
            "Hello\n",
            "World\n",
            "이름\t연락처\n",
            "제시카\t02-123-4567\n",
            "마틴\t010-8765-4321\n"
          ]
        }
      ]
    },
    {
      "cell_type": "code",
      "source": [
        "# print() 함수\n",
        "\n",
        "print('재미있는','파이썬')\n",
        "print('재미있는','파이썬', sep=',')\n",
        "print('재미있는','파이썬', sep='/')\n",
        "print('재미있는','파이썬', sep='a')"
      ],
      "metadata": {
        "colab": {
          "base_uri": "https://localhost:8080/"
        },
        "id": "BLMV825ATDQJ",
        "outputId": "2ef6ff87-0224-4301-82c3-793b92b86a39"
      },
      "execution_count": 18,
      "outputs": [
        {
          "output_type": "stream",
          "name": "stdout",
          "text": [
            "재미있는 파이썬\n",
            "재미있는,파이썬\n",
            "재미있는/파이썬\n",
            "재미있는a파이썬\n"
          ]
        }
      ]
    },
    {
      "cell_type": "code",
      "source": [
        "print('영화 타이타닉')\n",
        "print('평점', end=' ')\n",
        "print('5점')"
      ],
      "metadata": {
        "colab": {
          "base_uri": "https://localhost:8080/"
        },
        "id": "dsmIAIcxT7eF",
        "outputId": "b48a1c09-b945-45d8-e79f-4db33331c4c0"
      },
      "execution_count": 26,
      "outputs": [
        {
          "output_type": "stream",
          "name": "stdout",
          "text": [
            "영화 타이타닉\n",
            "평점 5점\n"
          ]
        }
      ]
    },
    {
      "cell_type": "code",
      "source": [
        "# %연산자 (비추)\n",
        "\n",
        "print('%d' % 11)  # %d 정수 10진수 자리표시자 decimal\n",
        "print('%o' %10)   # %o 정수 8진수 자리표시자 octal    잘 안씀\n",
        "print('%x' %10)   # %x 정수 16진수 자리표시자 hexa    잘 안씀\n",
        "print('%f' %3.14)\n",
        "\n",
        "print('%s' % 'python')\n",
        "print('%s' %3.14)\n",
        "\n",
        "# 이 방식 자체를 비추, f-string 추천"
      ],
      "metadata": {
        "colab": {
          "base_uri": "https://localhost:8080/"
        },
        "id": "Nc6RWQesUXm-",
        "outputId": "6acc1276-2185-4db8-ce2c-167ff49ca101"
      },
      "execution_count": 34,
      "outputs": [
        {
          "output_type": "stream",
          "name": "stdout",
          "text": [
            "11\n",
            "12\n",
            "a\n",
            "3.140000\n",
            "python\n",
            "3.14\n"
          ]
        }
      ]
    },
    {
      "cell_type": "code",
      "source": [
        "print('%d' %1)\n",
        "print('%5d' % 1)  #다섯칸을 확보하고 오른쪽에 출력\n",
        "print('%5d' %11)  #다섯칸을 확보하고 오른쪽부터 출력\n",
        "\n",
        "print('%-5d' %1)  #다섯칸을 확보하고 왼쪽에 출력\n",
        "print('%-5d' %11) #다섯칸을 확보하고 왼쪽부터 출력\n"
      ],
      "metadata": {
        "colab": {
          "base_uri": "https://localhost:8080/"
        },
        "id": "sI8Fe57L4j74",
        "outputId": "1f3e00ed-f92a-4b88-e692-afe2fddd0822"
      },
      "execution_count": 41,
      "outputs": [
        {
          "output_type": "stream",
          "name": "stdout",
          "text": [
            "1\n",
            "    1\n",
            "   11\n",
            "1    \n",
            "11   \n"
          ]
        }
      ]
    },
    {
      "cell_type": "code",
      "source": [
        "print('%.2f' %3.14) #소숫점 아래 두번째 자리까지 실수 출력\n",
        "print('%.1f' %3.14) #소숫점 아래 첫번쨰 자리까지 실수 출력"
      ],
      "metadata": {
        "colab": {
          "base_uri": "https://localhost:8080/"
        },
        "id": "U3bB2p8w7fK2",
        "outputId": "9de901ab-67d4-4929-a62d-32646e5ff3c9"
      },
      "execution_count": 45,
      "outputs": [
        {
          "output_type": "stream",
          "name": "stdout",
          "text": [
            "3.14\n"
          ]
        }
      ]
    },
    {
      "cell_type": "code",
      "source": [
        "print('%5.2f' %3.14)  #다섯칸을 확보하고 소숫점 아래 두번째 자리까지 오른쪽에 실수 출력\n",
        "print('%5.1f' %3.14)  #다섯칸을 확보하고 소숫점 아래 첫번째 자리까지 오른쪽에 실수 출력\n",
        "\n",
        "print('%-5.2f' %3.14)  #다섯칸을 확보하고 소숫점 아래 두번째 자리까지 왼쪽에 실수 출력\n",
        "print('%-5.1f' %3.14)  #다섯칸을 확보하고 소숫점 아래 첫번째 자리까지 왼쪽에 실수 출력"
      ],
      "metadata": {
        "colab": {
          "base_uri": "https://localhost:8080/"
        },
        "id": "XpqkRhhE4tdC",
        "outputId": "5cd008ba-26c0-4b8d-9393-56d8b1547a87"
      },
      "execution_count": 44,
      "outputs": [
        {
          "output_type": "stream",
          "name": "stdout",
          "text": [
            " 3.14\n",
            "  3.1\n",
            "3.14 \n",
            "3.1  \n"
          ]
        }
      ]
    },
    {
      "cell_type": "code",
      "source": [
        "print('%s' % 3.14)  "
      ],
      "metadata": {
        "colab": {
          "base_uri": "https://localhost:8080/"
        },
        "id": "vrtEJ95W7zDm",
        "outputId": "1f828938-76e4-4f44-f8fc-aefee22171e3"
      },
      "execution_count": 47,
      "outputs": [
        {
          "output_type": "stream",
          "name": "stdout",
          "text": [
            "3.14\n"
          ]
        }
      ]
    },
    {
      "cell_type": "code",
      "source": [
        "# 인쇄하는 4가지 방법\n",
        "\n",
        "# 1 기본 출력 방법  *****\n",
        "a = '학생'\n",
        "print(a,'입니다.')\n",
        "\n",
        "# 2 f string 출력 방법 *****\n",
        "print(f'{a} 입니다.')\n",
        "\n",
        "# 3 %연산자 출력 방법\n",
        "print('%s 입니다.' %a)\n",
        "\n",
        "# 4 format() 출력 방법\n",
        "print('{} 입니다.'.format(a))"
      ],
      "metadata": {
        "colab": {
          "base_uri": "https://localhost:8080/"
        },
        "id": "jVHbItoC78h9",
        "outputId": "4fe34233-e49e-4b7e-b456-7d6935b512e1"
      },
      "execution_count": 54,
      "outputs": [
        {
          "output_type": "stream",
          "name": "stdout",
          "text": [
            "학생 입니다.\n",
            "학생 입니다.\n",
            "학생 입니다.\n",
            "학생 입니다.\n"
          ]
        }
      ]
    },
    {
      "cell_type": "code",
      "source": [
        "# p.59\n",
        "# format() 매서드\n",
        "\n",
        "print('My name is {}'.format('James'))"
      ],
      "metadata": {
        "colab": {
          "base_uri": "https://localhost:8080/"
        },
        "id": "dTngJkms9Zmt",
        "outputId": "e61aee2f-b147-453c-da13-66c5fed63bd1"
      },
      "execution_count": 59,
      "outputs": [
        {
          "output_type": "stream",
          "name": "stdout",
          "text": [
            "My name is James\n"
          ]
        }
      ]
    },
    {
      "cell_type": "code",
      "source": [
        "print('My name is {0}'.format('James'))     #순서지정할 수 있음"
      ],
      "metadata": {
        "id": "ZodTxvf_92te"
      },
      "execution_count": null,
      "outputs": []
    },
    {
      "cell_type": "code",
      "source": [
        "print('My name is {name}'.format(name ='James')) #변수 안에 담아줄 수 있음"
      ],
      "metadata": {
        "colab": {
          "base_uri": "https://localhost:8080/"
        },
        "id": "jvy7SWGo94Lr",
        "outputId": "c53f7e7b-c724-4623-9595-21980c99fb44"
      },
      "execution_count": 60,
      "outputs": [
        {
          "output_type": "stream",
          "name": "stdout",
          "text": [
            "My name is James\n"
          ]
        }
      ]
    },
    {
      "cell_type": "code",
      "source": [
        "print('My name is {}. I\\'m {} years old.'.format('James',20))"
      ],
      "metadata": {
        "colab": {
          "base_uri": "https://localhost:8080/"
        },
        "id": "RyQiwMur-CDQ",
        "outputId": "0ad977f1-dcdb-450e-c965-201ee1ddfaa0"
      },
      "execution_count": 61,
      "outputs": [
        {
          "output_type": "stream",
          "name": "stdout",
          "text": [
            "My name is James. I'm 20 years old.\n"
          ]
        }
      ]
    },
    {
      "cell_type": "code",
      "source": [
        "print('My name is {name}. I\\'m {age} years old.'.format(name ='James',age =20))"
      ],
      "metadata": {
        "colab": {
          "base_uri": "https://localhost:8080/"
        },
        "id": "8QaskkgV-MjC",
        "outputId": "716453d7-2acb-410d-c79c-6d910bd234de"
      },
      "execution_count": 64,
      "outputs": [
        {
          "output_type": "stream",
          "name": "stdout",
          "text": [
            "My name is James. I'm 20 years old.\n"
          ]
        }
      ]
    },
    {
      "cell_type": "code",
      "source": [
        "# p.61\n",
        "# f-strings\n",
        "\n",
        "who = 'you'\n",
        "how = 'happy'\n",
        "\n",
        "print(f'{who} make me {how}')"
      ],
      "metadata": {
        "colab": {
          "base_uri": "https://localhost:8080/"
        },
        "id": "KHRYsVUV-Yrp",
        "outputId": "23a3ea0d-66d3-4166-d07f-06f66a4e80a9"
      },
      "execution_count": 65,
      "outputs": [
        {
          "output_type": "stream",
          "name": "stdout",
          "text": [
            "you make me happy\n"
          ]
        }
      ]
    },
    {
      "cell_type": "code",
      "source": [
        "age = 25\n",
        "print(f'내년에는 {age+1}살이 됩니다.')\n",
        "\n",
        "# 내가 만든 활용 ㅋ\n",
        "age = int(input('현재 나이를 입력해주세요 :'))\n",
        "print(f'내년에는 {age+1}살이 됩니다.')"
      ],
      "metadata": {
        "colab": {
          "base_uri": "https://localhost:8080/"
        },
        "id": "rpBCri4c_dQM",
        "outputId": "68969d95-7413-47e9-8dfb-f0d49fbec56e"
      },
      "execution_count": 69,
      "outputs": [
        {
          "output_type": "stream",
          "name": "stdout",
          "text": [
            "내년에는 26살이 됩니다.\n",
            "현재 나이를 입력해주세요 :4\n",
            "내년에는 5살이 됩니다.\n"
          ]
        }
      ]
    },
    {
      "cell_type": "code",
      "source": [
        "# p.62 표준입력\n",
        "\n",
        "a = input()\n",
        "print(a)"
      ],
      "metadata": {
        "colab": {
          "base_uri": "https://localhost:8080/"
        },
        "id": "9MXicX0m_sKX",
        "outputId": "5888f73b-79e8-4a5e-e526-937d8646c08c"
      },
      "execution_count": 72,
      "outputs": [
        {
          "output_type": "stream",
          "name": "stdout",
          "text": [
            "ㅗ\n",
            "ㅗ\n"
          ]
        }
      ]
    },
    {
      "cell_type": "code",
      "source": [
        "# n = input('정수를 입력하세요 : ')\n",
        "# print(type(n))\n",
        "\n",
        "n = int(input('정수를 입력하세요 : '))\n",
        "print(type(n))\n",
        "\n",
        "# input을 통해 입력된 모든 데이터는 전부 문자로 받는다.\n",
        "# 따라서 숫자로 입력 받기 위해서는 casting을 하여 숫자로 바꾼다."
      ],
      "metadata": {
        "colab": {
          "base_uri": "https://localhost:8080/"
        },
        "id": "kjOB-ySTAGkY",
        "outputId": "5156a49d-80d1-460d-e3cf-e57b836e99dc"
      },
      "execution_count": 75,
      "outputs": [
        {
          "output_type": "stream",
          "name": "stdout",
          "text": [
            "정수를 입력하세요 : 4\n",
            "<class 'int'>\n"
          ]
        }
      ]
    },
    {
      "cell_type": "code",
      "source": [
        "# p.63 기본예제 (네가지 방식으로 출력하라)\n",
        "\n",
        "name = input('이름을 입력하세요 >>>')\n",
        "age = input('나이를 입력하세요 >>>')\n",
        "\n",
        "print('입력된 이름은 {}입니다.'.format(name))\n",
        "print('입력된 나이는 {}살입니다.'.format(age))\n",
        "\n",
        "print('입력된 이름은',name,'입니다.')\n",
        "print('입력된 나이는',age,'살입니다.')\n",
        "\n",
        "print(f'입력된 이름은 {name}입니다.')\n",
        "print(f'입력된 나이는 {age}살입니다.')\n",
        "\n",
        "print('입력된 이름은 %s 입니다.' % name)\n",
        "print('입력된 나이는 %s 살입니다.' %age)"
      ],
      "metadata": {
        "colab": {
          "base_uri": "https://localhost:8080/"
        },
        "id": "ya7TdpR-BCHU",
        "outputId": "ca1a3d64-3087-4409-9d7d-3692b282f921"
      },
      "execution_count": 80,
      "outputs": [
        {
          "output_type": "stream",
          "name": "stdout",
          "text": [
            "이름을 입력하세요 >>>박은혜\n",
            "나이를 입력하세요 >>>20\n",
            "입력된 이름은 박은혜입니다.\n",
            "입력된 나이는 20살입니다.\n",
            "입력된 이름은 박은혜 입니다.\n",
            "입력된 나이는 20 살입니다.\n",
            "입력된 이름은 박은혜입니다.\n",
            "입력된 나이는 20살입니다.\n",
            "입력된 이름은 박은혜 입니다.\n",
            "입력된 나이는 20 살입니다.\n"
          ]
        }
      ]
    },
    {
      "cell_type": "code",
      "source": [
        ""
      ],
      "metadata": {
        "id": "FM6T5zCICWG1"
      },
      "execution_count": null,
      "outputs": []
    }
  ]
}