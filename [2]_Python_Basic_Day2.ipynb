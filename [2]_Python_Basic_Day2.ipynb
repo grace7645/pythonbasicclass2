{
  "nbformat": 4,
  "nbformat_minor": 0,
  "metadata": {
    "colab": {
      "name": "[2] Python Basic Day2.ipynb",
      "provenance": [],
      "collapsed_sections": [],
      "authorship_tag": "ABX9TyOGnXddmk22me+j2rbKu8iX",
      "include_colab_link": true
    },
    "kernelspec": {
      "name": "python3",
      "display_name": "Python 3"
    },
    "language_info": {
      "name": "python"
    }
  },
  "cells": [
    {
      "cell_type": "markdown",
      "metadata": {
        "id": "view-in-github",
        "colab_type": "text"
      },
      "source": [
        "<a href=\"https://colab.research.google.com/github/grace7645/pythonbasicclass2/blob/main/%5B2%5D_Python_Basic_Day2.ipynb\" target=\"_parent\"><img src=\"https://colab.research.google.com/assets/colab-badge.svg\" alt=\"Open In Colab\"/></a>"
      ]
    },
    {
      "cell_type": "code",
      "execution_count": null,
      "metadata": {
        "id": "5NgDYnPVagbe"
      },
      "outputs": [],
      "source": [
        "# p.33 3 기본 자료형 \n",
        "\n",
        "int 정수    1,2,3,4\n",
        "float 실수  3.14, 2.18\n",
        "bool 논리   True, False\n",
        "str 문자열  '홍길동', '슈가'"
      ]
    },
    {
      "cell_type": "code",
      "source": [
        "# 1. 정수 int\n",
        "\n",
        "int(1.9)"
      ],
      "metadata": {
        "colab": {
          "base_uri": "https://localhost:8080/"
        },
        "id": "b7JiOhgf00ic",
        "outputId": "332c2dab-1f7b-499c-fdae-36c7eb1fe482"
      },
      "execution_count": 1,
      "outputs": [
        {
          "output_type": "execute_result",
          "data": {
            "text/plain": [
              "1"
            ]
          },
          "metadata": {},
          "execution_count": 1
        }
      ]
    },
    {
      "cell_type": "code",
      "source": [
        "int(True)"
      ],
      "metadata": {
        "colab": {
          "base_uri": "https://localhost:8080/"
        },
        "id": "jvD50eqWQhwh",
        "outputId": "d18a2d89-f598-4335-a9c8-11f2a2bd2a77"
      },
      "execution_count": 2,
      "outputs": [
        {
          "output_type": "execute_result",
          "data": {
            "text/plain": [
              "1"
            ]
          },
          "metadata": {},
          "execution_count": 2
        }
      ]
    },
    {
      "cell_type": "code",
      "source": [
        "int(False)"
      ],
      "metadata": {
        "colab": {
          "base_uri": "https://localhost:8080/"
        },
        "id": "Peen3weqQjzz",
        "outputId": "e95b47a9-e573-4668-d9e2-24bf8928cb9a"
      },
      "execution_count": 3,
      "outputs": [
        {
          "output_type": "execute_result",
          "data": {
            "text/plain": [
              "0"
            ]
          },
          "metadata": {},
          "execution_count": 3
        }
      ]
    },
    {
      "cell_type": "code",
      "source": [
        "int('100')\n",
        "int('200')\n",
        "\n",
        "# 큰 따옴표 또는 작은 따옴표 안에 있는 숫자는 숫자처럼 보이지만 문자다\n",
        "# int() 괄호 안에 숫자처럼 보이는 문자를 넣어주면 짙짜 숫자로 변환된다"
      ],
      "metadata": {
        "colab": {
          "base_uri": "https://localhost:8080/"
        },
        "id": "i1xlMaWXQvg8",
        "outputId": "2a4750cb-2c6e-4976-ca47-437125e6af17"
      },
      "execution_count": 4,
      "outputs": [
        {
          "output_type": "execute_result",
          "data": {
            "text/plain": [
              "200"
            ]
          },
          "metadata": {},
          "execution_count": 4
        }
      ]
    },
    {
      "cell_type": "code",
      "source": [
        "# 2. 실수 float\n",
        "\n",
        "float(1)"
      ],
      "metadata": {
        "colab": {
          "base_uri": "https://localhost:8080/"
        },
        "id": "4aAXJiZFRNcN",
        "outputId": "06df438c-884f-483e-ec2f-861c1ad7c93b"
      },
      "execution_count": 8,
      "outputs": [
        {
          "output_type": "execute_result",
          "data": {
            "text/plain": [
              "1.0"
            ]
          },
          "metadata": {},
          "execution_count": 8
        }
      ]
    },
    {
      "cell_type": "code",
      "source": [
        "float(True)"
      ],
      "metadata": {
        "colab": {
          "base_uri": "https://localhost:8080/"
        },
        "id": "Qxqb5y2BSQdp",
        "outputId": "7dc11ff4-e72d-47a9-e38e-6ee4dd4ebc7e"
      },
      "execution_count": 9,
      "outputs": [
        {
          "output_type": "execute_result",
          "data": {
            "text/plain": [
              "1.0"
            ]
          },
          "metadata": {},
          "execution_count": 9
        }
      ]
    },
    {
      "cell_type": "code",
      "source": [
        "float(False)"
      ],
      "metadata": {
        "colab": {
          "base_uri": "https://localhost:8080/"
        },
        "id": "MFH1LTGWSSQd",
        "outputId": "9b6d2683-e2c8-4463-8f0f-a1e9b967497e"
      },
      "execution_count": 10,
      "outputs": [
        {
          "output_type": "execute_result",
          "data": {
            "text/plain": [
              "0.0"
            ]
          },
          "metadata": {},
          "execution_count": 10
        }
      ]
    },
    {
      "cell_type": "code",
      "source": [
        "float('3.14')"
      ],
      "metadata": {
        "colab": {
          "base_uri": "https://localhost:8080/"
        },
        "id": "6Fr7D43oST-m",
        "outputId": "3f404d20-4b41-43dd-f55c-a835d559effe"
      },
      "execution_count": 11,
      "outputs": [
        {
          "output_type": "execute_result",
          "data": {
            "text/plain": [
              "3.14"
            ]
          },
          "metadata": {},
          "execution_count": 11
        }
      ]
    },
    {
      "cell_type": "code",
      "source": [
        "# 3. 논리 bool, boolean (True or False 만 들어갈 수 있음)\n",
        "\n",
        "bool(0)"
      ],
      "metadata": {
        "colab": {
          "base_uri": "https://localhost:8080/"
        },
        "id": "a81DuXnASV7A",
        "outputId": "266845cf-7bf8-4925-8e6e-a6d05dc7cf34"
      },
      "execution_count": 13,
      "outputs": [
        {
          "output_type": "execute_result",
          "data": {
            "text/plain": [
              "False"
            ]
          },
          "metadata": {},
          "execution_count": 13
        }
      ]
    },
    {
      "cell_type": "code",
      "source": [
        "bool(1)\n",
        "bool(3)"
      ],
      "metadata": {
        "colab": {
          "base_uri": "https://localhost:8080/"
        },
        "id": "Y5WIpbRdShVS",
        "outputId": "fa2babdd-b6fb-415b-f179-41cc5cf51930"
      },
      "execution_count": 18,
      "outputs": [
        {
          "output_type": "execute_result",
          "data": {
            "text/plain": [
              "True"
            ]
          },
          "metadata": {},
          "execution_count": 18
        }
      ]
    },
    {
      "cell_type": "code",
      "source": [
        "bool('')"
      ],
      "metadata": {
        "colab": {
          "base_uri": "https://localhost:8080/"
        },
        "id": "-b4V3ZLJTylF",
        "outputId": "88c7341c-e32e-43be-a5d8-315bde4e9f71"
      },
      "execution_count": 17,
      "outputs": [
        {
          "output_type": "execute_result",
          "data": {
            "text/plain": [
              "False"
            ]
          },
          "metadata": {},
          "execution_count": 17
        }
      ]
    },
    {
      "cell_type": "code",
      "source": [
        "bool('1')"
      ],
      "metadata": {
        "colab": {
          "base_uri": "https://localhost:8080/"
        },
        "id": "TdyNHRL2T_Fk",
        "outputId": "71de7235-18bc-42ef-e61f-7491aba1da2d"
      },
      "execution_count": 19,
      "outputs": [
        {
          "output_type": "execute_result",
          "data": {
            "text/plain": [
              "True"
            ]
          },
          "metadata": {},
          "execution_count": 19
        }
      ]
    },
    {
      "cell_type": "code",
      "source": [
        "bool([1,2,3])"
      ],
      "metadata": {
        "colab": {
          "base_uri": "https://localhost:8080/"
        },
        "id": "HmAvaBtAUBHQ",
        "outputId": "9fe7550b-4d6b-4e26-946b-589b2fbd7d95"
      },
      "execution_count": 20,
      "outputs": [
        {
          "output_type": "execute_result",
          "data": {
            "text/plain": [
              "True"
            ]
          },
          "metadata": {},
          "execution_count": 20
        }
      ]
    },
    {
      "cell_type": "code",
      "source": [
        "# 4. 문자열 srt (string)\n",
        "\n",
        "a = '대한\\n한국'\n",
        "b = \"한국\"\n",
        "print(a)\n",
        "\n",
        "a = '''대한\n",
        "민국'''\n",
        "b = \"\"\"대한\n",
        "민국\"\"\"\n",
        "print(a)"
      ],
      "metadata": {
        "colab": {
          "base_uri": "https://localhost:8080/"
        },
        "id": "UVmpFfyGUmU4",
        "outputId": "f0fd4647-8a5e-4a51-be5b-65571c3e0c9a"
      },
      "execution_count": 27,
      "outputs": [
        {
          "output_type": "stream",
          "name": "stdout",
          "text": [
            "대한\n",
            "한국\n",
            "대한\n",
            "민국\n"
          ]
        }
      ]
    },
    {
      "cell_type": "code",
      "source": [
        "str(100)"
      ],
      "metadata": {
        "colab": {
          "base_uri": "https://localhost:8080/",
          "height": 35
        },
        "id": "MocTA7GBUxLY",
        "outputId": "89002781-eb21-4469-f588-c4f0a5b4bb68"
      },
      "execution_count": 21,
      "outputs": [
        {
          "output_type": "execute_result",
          "data": {
            "application/vnd.google.colaboratory.intrinsic+json": {
              "type": "string"
            },
            "text/plain": [
              "'100'"
            ]
          },
          "metadata": {},
          "execution_count": 21
        }
      ]
    },
    {
      "cell_type": "code",
      "source": [
        "str(True)"
      ],
      "metadata": {
        "colab": {
          "base_uri": "https://localhost:8080/",
          "height": 35
        },
        "id": "z2Gu-ptxUzl1",
        "outputId": "91ee532e-fc42-486f-b91f-6fde3a1af089"
      },
      "execution_count": 22,
      "outputs": [
        {
          "output_type": "execute_result",
          "data": {
            "application/vnd.google.colaboratory.intrinsic+json": {
              "type": "string"
            },
            "text/plain": [
              "'True'"
            ]
          },
          "metadata": {},
          "execution_count": 22
        }
      ]
    },
    {
      "cell_type": "code",
      "source": [
        "str(False)"
      ],
      "metadata": {
        "colab": {
          "base_uri": "https://localhost:8080/",
          "height": 35
        },
        "id": "HSdwytq9U32H",
        "outputId": "29a3aa75-94da-4c72-947b-faf615e5b72f"
      },
      "execution_count": 23,
      "outputs": [
        {
          "output_type": "execute_result",
          "data": {
            "application/vnd.google.colaboratory.intrinsic+json": {
              "type": "string"
            },
            "text/plain": [
              "'False'"
            ]
          },
          "metadata": {},
          "execution_count": 23
        }
      ]
    },
    {
      "cell_type": "code",
      "source": [
        "str(3.14)"
      ],
      "metadata": {
        "colab": {
          "base_uri": "https://localhost:8080/",
          "height": 35
        },
        "id": "yDK_aimOU6-P",
        "outputId": "54940fdf-a0fc-4c57-fb00-44e5fafa6bcc"
      },
      "execution_count": 24,
      "outputs": [
        {
          "output_type": "execute_result",
          "data": {
            "application/vnd.google.colaboratory.intrinsic+json": {
              "type": "string"
            },
            "text/plain": [
              "'3.14'"
            ]
          },
          "metadata": {},
          "execution_count": 24
        }
      ]
    },
    {
      "cell_type": "code",
      "source": [
        "# 문자열 인덱싱 (indexing)\n",
        "# 인덱싱은 문자열을 구성하는 모든 문자에 부여한 고유의 번호이다.\n",
        "\n",
        "s = 'hello'\n",
        "print(s[0])       # 인덱스의 시작은 0이다.\n",
        "# h e l l o\n",
        "# 0 1 2 3 4         각 문자의 인덱스 번호"
      ],
      "metadata": {
        "colab": {
          "base_uri": "https://localhost:8080/"
        },
        "id": "jYvdZfHOU9Mc",
        "outputId": "0c00a14c-14c2-4865-9a94-9b058e5332f5"
      },
      "execution_count": 30,
      "outputs": [
        {
          "output_type": "stream",
          "name": "stdout",
          "text": [
            "h\n"
          ]
        }
      ]
    },
    {
      "cell_type": "code",
      "source": [
        "# h e l l o\n",
        "#        -1\n",
        "s = 'hello'\n",
        "print(s[-1])"
      ],
      "metadata": {
        "colab": {
          "base_uri": "https://localhost:8080/"
        },
        "id": "2Z8Nz8GPuF-f",
        "outputId": "1f5cc166-34ad-4e7e-f46f-51c6aff918fb"
      },
      "execution_count": 31,
      "outputs": [
        {
          "output_type": "stream",
          "name": "stdout",
          "text": [
            "o\n"
          ]
        }
      ]
    },
    {
      "cell_type": "code",
      "source": [
        "#  h  e  l  l  o\n",
        "# -5 -4 -3 -2 -1"
      ],
      "metadata": {
        "id": "Q2jIHD7FvDEg"
      },
      "execution_count": null,
      "outputs": []
    },
    {
      "cell_type": "code",
      "source": [
        "# 문자열 슬라이싱 (slicing)\n",
        "# 문자열의 인덱스를 사용하여 한 문자 이상으로 구성된 단어나 문장을 추출\n",
        "\n",
        "s = 'banana'\n",
        "s[0:3]    # [start:stop]      stop은 까지가 아닌 미만으로 계산한다."
      ],
      "metadata": {
        "colab": {
          "base_uri": "https://localhost:8080/",
          "height": 35
        },
        "id": "-fwkT2M8vwZU",
        "outputId": "f105cb5c-dea1-4012-a593-69cbebc0d190"
      },
      "execution_count": 32,
      "outputs": [
        {
          "output_type": "execute_result",
          "data": {
            "application/vnd.google.colaboratory.intrinsic+json": {
              "type": "string"
            },
            "text/plain": [
              "'ban'"
            ]
          },
          "metadata": {},
          "execution_count": 32
        }
      ]
    },
    {
      "cell_type": "code",
      "source": [
        "addr = '서울시 강남구 역삼동 1번지'\n",
        "print(addr[4:7])"
      ],
      "metadata": {
        "colab": {
          "base_uri": "https://localhost:8080/"
        },
        "id": "pMZCsrvB7IR_",
        "outputId": "a31d5f3c-0106-4ffc-ce9f-1d1d23821108"
      },
      "execution_count": 33,
      "outputs": [
        {
          "output_type": "stream",
          "name": "stdout",
          "text": [
            "강남구\n"
          ]
        }
      ]
    },
    {
      "cell_type": "code",
      "source": [
        "# p.39 컬렉션 Collection\n",
        "\n",
        "# '여러 값을 하나의 이름으로 묶어서 관리하는 자료형'\n",
        "# 01 리스트 list \n",
        "# 02 튜플 tuple \n",
        "# 03 딕셔너리 dict \n",
        "# 04 셋 set"
      ],
      "metadata": {
        "id": "NzOQjbPc7V25"
      },
      "execution_count": null,
      "outputs": []
    },
    {
      "cell_type": "code",
      "source": [
        "# 리스트 list\n",
        "# 리스트는 여러값을 저장할 때 가장 많이 사용되는 자료형이다.\n",
        "\n",
        "# 특징\n",
        "# 1. 대괄호로 생성한다. []\n",
        "# 2. 여러가지 자료형을 하나의 리스트로 생성할 수 있다. (장점이라기엔 애매 - 프로그래밍적으로는.. 그닥)\n",
        "# 3. mutable한 속성을 갖는다. (수정, 삭제가 가능한다.)\n",
        "# 4. indexing, slicing 이 가능하다."
      ],
      "metadata": {
        "id": "P6tEgyzN72r8"
      },
      "execution_count": null,
      "outputs": []
    },
    {
      "cell_type": "code",
      "source": [
        "list1 = [1,2,3,4]\n",
        "list2 = [1,2,3,'대','한',True]"
      ],
      "metadata": {
        "id": "S7nZQmnOAlXk"
      },
      "execution_count": 35,
      "outputs": []
    },
    {
      "cell_type": "code",
      "source": [
        "li = [100, 3.14, 'hello']\n",
        "\n",
        "li[2]"
      ],
      "metadata": {
        "colab": {
          "base_uri": "https://localhost:8080/",
          "height": 35
        },
        "id": "kVR49uY_BR28",
        "outputId": "d83f7cef-4514-4b07-8735-d53a33a28eff"
      },
      "execution_count": 38,
      "outputs": [
        {
          "output_type": "execute_result",
          "data": {
            "application/vnd.google.colaboratory.intrinsic+json": {
              "type": "string"
            },
            "text/plain": [
              "'hello'"
            ]
          },
          "metadata": {},
          "execution_count": 38
        }
      ]
    },
    {
      "cell_type": "code",
      "source": [
        "li[:]   # [start:stop(미만)]"
      ],
      "metadata": {
        "colab": {
          "base_uri": "https://localhost:8080/"
        },
        "id": "hRXxZtS4CFye",
        "outputId": "d727cbab-23e6-468d-856e-6936490158eb"
      },
      "execution_count": 40,
      "outputs": [
        {
          "output_type": "execute_result",
          "data": {
            "text/plain": [
              "[100, 3.14, 'hello']"
            ]
          },
          "metadata": {},
          "execution_count": 40
        }
      ]
    },
    {
      "cell_type": "code",
      "source": [
        "# p.41\n",
        "# append()  - 리스트에 데이터를 추가\n",
        "\n",
        "scores = [50,40,30]\n",
        "scores.append(100)  # 값을 추가할 때 사용하는 () 소괄호\n",
        "scores\n",
        "\n",
        "\n",
        "# score2 = (50,40,30) # 튜플을 만들때는() 소괄호를 사용한다"
      ],
      "metadata": {
        "id": "718i3sU5CJ6G"
      },
      "execution_count": 52,
      "outputs": []
    },
    {
      "cell_type": "code",
      "source": [
        "# insert()    - 리스트에 데이터를 추가\n",
        "\n",
        "scores.insert(0,90)   # 특정위치에 데이터를 추가\n",
        "scores"
      ],
      "metadata": {
        "colab": {
          "base_uri": "https://localhost:8080/"
        },
        "id": "5NUu3EbxD_G2",
        "outputId": "c02357e8-738e-4e4a-e44a-458cda1bb5c6"
      },
      "execution_count": 51,
      "outputs": [
        {
          "output_type": "execute_result",
          "data": {
            "text/plain": [
              "[90, 50, 40, 30, 100]"
            ]
          },
          "metadata": {},
          "execution_count": 51
        }
      ]
    },
    {
      "cell_type": "code",
      "source": [
        "# pop()   - 리스트에서 데이터 삭제\n",
        "\n",
        "scores = [50,40,30]\n",
        "scores.pop()    # pop() 괄호 안을 생략하면 마지막 값을 삭제\n",
        "scores"
      ],
      "metadata": {
        "colab": {
          "base_uri": "https://localhost:8080/"
        },
        "id": "_34tHCf4CYP4",
        "outputId": "c9f2b982-f02c-4797-9c20-0e2532212b82"
      },
      "execution_count": 48,
      "outputs": [
        {
          "output_type": "execute_result",
          "data": {
            "text/plain": [
              "[50, 40]"
            ]
          },
          "metadata": {},
          "execution_count": 48
        }
      ]
    },
    {
      "cell_type": "code",
      "source": [
        "scores.pop(0)\n",
        "scores"
      ],
      "metadata": {
        "colab": {
          "base_uri": "https://localhost:8080/"
        },
        "id": "CJtu0U5jD1aT",
        "outputId": "864b6800-66af-44d2-d4ed-6910dbe02c4a"
      },
      "execution_count": 49,
      "outputs": [
        {
          "output_type": "execute_result",
          "data": {
            "text/plain": [
              "[40]"
            ]
          },
          "metadata": {},
          "execution_count": 49
        }
      ]
    },
    {
      "cell_type": "code",
      "source": [
        "# p.42\n",
        "# 튜플 tuple\n",
        "# 저장된 값을 변경할 수 없는 리스트\n",
        "\n",
        "# 특징\n",
        "# 1. 소괄호로 생성한다. () 튜플은 괄호 생략 가능\n",
        "# 2. 여러가지 자료형을 하나의 튜플로 생성할 수 있다. (장점이라기엔 애매 - 프로그래밍적으로는.. 그닥)\n",
        "# 3. immutable한 속성을 갖는다. (수정, 삭제가 불가능하다.)\n",
        "# 4. indexing, slicing이 가능하다.\n",
        "# 5. 1개의 원소를 갖는 튜플을 생성할 때는 , 쉼표를 붙인다.\n",
        "\n",
        "li = [1]\n",
        "print(li)\n",
        "print(type(li))"
      ],
      "metadata": {
        "colab": {
          "base_uri": "https://localhost:8080/"
        },
        "id": "cgPyuZA6D4ya",
        "outputId": "2c518442-02ec-4e9a-a412-58f9c2e17eee"
      },
      "execution_count": 5,
      "outputs": [
        {
          "output_type": "stream",
          "name": "stdout",
          "text": [
            "[1]\n",
            "<class 'list'>\n"
          ]
        }
      ]
    },
    {
      "cell_type": "code",
      "source": [
        "# tu = (1)\n",
        "# print(tu)\n",
        "# print(type(tu))\n",
        "\n",
        "tu = (1,)\n",
        "print(tu)\n",
        "type(tu)"
      ],
      "metadata": {
        "colab": {
          "base_uri": "https://localhost:8080/"
        },
        "id": "iDSrDrKZOy--",
        "outputId": "5afb9760-65c8-47c6-d448-41ea75736997"
      },
      "execution_count": 10,
      "outputs": [
        {
          "output_type": "stream",
          "name": "stdout",
          "text": [
            "(1,)\n"
          ]
        },
        {
          "output_type": "execute_result",
          "data": {
            "text/plain": [
              "tuple"
            ]
          },
          "metadata": {},
          "execution_count": 10
        }
      ]
    },
    {
      "cell_type": "code",
      "source": [
        "tu = 1,2,3,4,5\n",
        "type(tu)"
      ],
      "metadata": {
        "colab": {
          "base_uri": "https://localhost:8080/"
        },
        "id": "bSk_aeSwTc0g",
        "outputId": "9b18b8be-9378-41d0-fbeb-e71746dd081e"
      },
      "execution_count": 9,
      "outputs": [
        {
          "output_type": "execute_result",
          "data": {
            "text/plain": [
              "tuple"
            ]
          },
          "metadata": {},
          "execution_count": 9
        }
      ]
    },
    {
      "cell_type": "code",
      "source": [
        "tu.append(6)"
      ],
      "metadata": {
        "colab": {
          "base_uri": "https://localhost:8080/",
          "height": 166
        },
        "id": "6Q2Rx1m_TnX-",
        "outputId": "22b786f2-df03-4bf7-d3a3-6f1a2c67da2e"
      },
      "execution_count": 11,
      "outputs": [
        {
          "output_type": "error",
          "ename": "AttributeError",
          "evalue": "ignored",
          "traceback": [
            "\u001b[0;31m---------------------------------------------------------------------------\u001b[0m",
            "\u001b[0;31mAttributeError\u001b[0m                            Traceback (most recent call last)",
            "\u001b[0;32m<ipython-input-11-5346a898c5e0>\u001b[0m in \u001b[0;36m<module>\u001b[0;34m()\u001b[0m\n\u001b[0;32m----> 1\u001b[0;31m \u001b[0mtu\u001b[0m\u001b[0;34m.\u001b[0m\u001b[0mappend\u001b[0m\u001b[0;34m(\u001b[0m\u001b[0;36m6\u001b[0m\u001b[0;34m)\u001b[0m\u001b[0;34m\u001b[0m\u001b[0;34m\u001b[0m\u001b[0m\n\u001b[0m",
            "\u001b[0;31mAttributeError\u001b[0m: 'tuple' object has no attribute 'append'"
          ]
        }
      ]
    },
    {
      "cell_type": "code",
      "source": [
        "tu.insert(0,0)"
      ],
      "metadata": {
        "colab": {
          "base_uri": "https://localhost:8080/",
          "height": 166
        },
        "id": "-l9IUb2OTweQ",
        "outputId": "6b14d2a1-5e14-4924-8958-251dd0333c74"
      },
      "execution_count": 13,
      "outputs": [
        {
          "output_type": "error",
          "ename": "AttributeError",
          "evalue": "ignored",
          "traceback": [
            "\u001b[0;31m---------------------------------------------------------------------------\u001b[0m",
            "\u001b[0;31mAttributeError\u001b[0m                            Traceback (most recent call last)",
            "\u001b[0;32m<ipython-input-13-a2665e570139>\u001b[0m in \u001b[0;36m<module>\u001b[0;34m()\u001b[0m\n\u001b[0;32m----> 1\u001b[0;31m \u001b[0mtu\u001b[0m\u001b[0;34m.\u001b[0m\u001b[0minsert\u001b[0m\u001b[0;34m(\u001b[0m\u001b[0;36m0\u001b[0m\u001b[0;34m,\u001b[0m\u001b[0;36m0\u001b[0m\u001b[0;34m)\u001b[0m\u001b[0;34m\u001b[0m\u001b[0;34m\u001b[0m\u001b[0m\n\u001b[0m",
            "\u001b[0;31mAttributeError\u001b[0m: 'tuple' object has no attribute 'insert'"
          ]
        }
      ]
    },
    {
      "cell_type": "code",
      "source": [
        "tu.pop()"
      ],
      "metadata": {
        "colab": {
          "base_uri": "https://localhost:8080/",
          "height": 166
        },
        "id": "crxV6DCeTt3p",
        "outputId": "d1070b65-5264-4803-e464-3de01a7ad5a2"
      },
      "execution_count": 12,
      "outputs": [
        {
          "output_type": "error",
          "ename": "AttributeError",
          "evalue": "ignored",
          "traceback": [
            "\u001b[0;31m---------------------------------------------------------------------------\u001b[0m",
            "\u001b[0;31mAttributeError\u001b[0m                            Traceback (most recent call last)",
            "\u001b[0;32m<ipython-input-12-e7fa926581ef>\u001b[0m in \u001b[0;36m<module>\u001b[0;34m()\u001b[0m\n\u001b[0;32m----> 1\u001b[0;31m \u001b[0mtu\u001b[0m\u001b[0;34m.\u001b[0m\u001b[0mpop\u001b[0m\u001b[0;34m(\u001b[0m\u001b[0;34m)\u001b[0m\u001b[0;34m\u001b[0m\u001b[0;34m\u001b[0m\u001b[0m\n\u001b[0m",
            "\u001b[0;31mAttributeError\u001b[0m: 'tuple' object has no attribute 'pop'"
          ]
        }
      ]
    },
    {
      "cell_type": "code",
      "source": [
        "tu = 1,2,3,4,5\n",
        "tu[0]"
      ],
      "metadata": {
        "colab": {
          "base_uri": "https://localhost:8080/"
        },
        "id": "mpetu9jCT34Q",
        "outputId": "97339334-4866-4d6f-80d3-669ee4aed4d3"
      },
      "execution_count": 14,
      "outputs": [
        {
          "output_type": "execute_result",
          "data": {
            "text/plain": [
              "1"
            ]
          },
          "metadata": {},
          "execution_count": 14
        }
      ]
    },
    {
      "cell_type": "code",
      "source": [
        "tu[0:3]"
      ],
      "metadata": {
        "colab": {
          "base_uri": "https://localhost:8080/"
        },
        "id": "V9_4YsJhT-tQ",
        "outputId": "c0a5dbd5-f7f2-4565-9fa4-a3f7b373985c"
      },
      "execution_count": 15,
      "outputs": [
        {
          "output_type": "execute_result",
          "data": {
            "text/plain": [
              "(1, 2, 3)"
            ]
          },
          "metadata": {},
          "execution_count": 15
        }
      ]
    },
    {
      "cell_type": "code",
      "source": [
        "# p.43\n",
        "# 셋 set\n",
        "\n",
        "# 특징 \n",
        "# 1. 중괄호로 생성한다. {}\n",
        "# 2. 여러가지 자료형을 하나의 셋으로 생성할 수 있다. (장점이라기엔 애매 - 프로그래밍적으로는.. 그닥)\n",
        "# 3. mutable한 속성을 갖는다. (수정,삭제가 가능하다.)\n",
        "# 4. indexing, slicing이 불가능하다. 순서가 없다.\n",
        "# 5. 중복된 데이터를 함께 저장할 수 없다. (중복 불가능)\n",
        "\n",
        "set = {1,1,1,2,2,3}\n",
        "set"
      ],
      "metadata": {
        "colab": {
          "base_uri": "https://localhost:8080/"
        },
        "id": "aEVXDXBuUA1P",
        "outputId": "6eaf1eab-8188-455a-b00f-432af33e97b6"
      },
      "execution_count": 17,
      "outputs": [
        {
          "output_type": "execute_result",
          "data": {
            "text/plain": [
              "{1, 2, 3}"
            ]
          },
          "metadata": {},
          "execution_count": 17
        }
      ]
    },
    {
      "cell_type": "code",
      "source": [
        "set.add(4)\n",
        "set"
      ],
      "metadata": {
        "colab": {
          "base_uri": "https://localhost:8080/"
        },
        "id": "QbgVBVRXV1Wx",
        "outputId": "47dee8df-27fb-495f-b0ad-f0b4b2e9a9e3"
      },
      "execution_count": 19,
      "outputs": [
        {
          "output_type": "execute_result",
          "data": {
            "text/plain": [
              "{1, 2, 3, 4}"
            ]
          },
          "metadata": {},
          "execution_count": 19
        }
      ]
    },
    {
      "cell_type": "code",
      "source": [
        "set = {1,2,3,4}\n",
        "set.remove(3)\n",
        "set"
      ],
      "metadata": {
        "colab": {
          "base_uri": "https://localhost:8080/"
        },
        "id": "8emz7sz9WZyX",
        "outputId": "966e05aa-c0ae-4050-f6fe-e1132e6b5b58"
      },
      "execution_count": 2,
      "outputs": [
        {
          "output_type": "execute_result",
          "data": {
            "text/plain": [
              "{1, 2, 4}"
            ]
          },
          "metadata": {},
          "execution_count": 2
        }
      ]
    },
    {
      "cell_type": "code",
      "source": [
        "# p.44\n",
        "# 딕셔너리 dict \n",
        "# 키값과 밸류값의 쌍으로 데이터를 저장하는 자료형\n",
        "# 자바에서의 map, JS에서의 json과 유사한 파이썬의 자료형\n",
        "\n",
        "# 특징\n",
        "# 1. 중괄호로 생성한다. {}\n",
        "# 2. 여러가지 자료형을 하나의 딕셔너리로 생성할 수 있다. (장점이라기엔 애매 - 프로그래밍적으로는.. 그닥)\n",
        "# 3. mutable한 속성을 갖는다. (수정, 삭제가 가능하다.)\n",
        "# 4. indexing, slicing이 불가능하다. 순서가 없다.\n",
        "# 5. 키와 밸류로 구성한다.\n",
        "\n",
        "dict = {'name':'홍길동','age':'24'}\n",
        "\n",
        "d = {'a':'apple','b':'banana'}\n",
        "d['b']"
      ],
      "metadata": {
        "colab": {
          "base_uri": "https://localhost:8080/",
          "height": 35
        },
        "id": "6FrgCyBUUofK",
        "outputId": "b423f847-a546-4fbd-91a6-3b2f1dc5baf2"
      },
      "execution_count": 3,
      "outputs": [
        {
          "output_type": "execute_result",
          "data": {
            "application/vnd.google.colaboratory.intrinsic+json": {
              "type": "string"
            },
            "text/plain": [
              "'banana'"
            ]
          },
          "metadata": {},
          "execution_count": 3
        }
      ]
    },
    {
      "cell_type": "code",
      "source": [
        "d['c'] = 'cherry'\n",
        "d"
      ],
      "metadata": {
        "colab": {
          "base_uri": "https://localhost:8080/"
        },
        "id": "8eLmrEFEZO6f",
        "outputId": "3afdebef-b567-40ec-a50d-e6488bbeb314"
      },
      "execution_count": 4,
      "outputs": [
        {
          "output_type": "execute_result",
          "data": {
            "text/plain": [
              "{'a': 'apple', 'b': 'banana', 'c': 'cherry'}"
            ]
          },
          "metadata": {},
          "execution_count": 4
        }
      ]
    },
    {
      "cell_type": "code",
      "source": [
        "d['c'] = '체리'\n",
        "d"
      ],
      "metadata": {
        "colab": {
          "base_uri": "https://localhost:8080/"
        },
        "id": "zCvFxcnKZpBT",
        "outputId": "f3347913-3c4d-4701-967e-6687b2e2c9a5"
      },
      "execution_count": 5,
      "outputs": [
        {
          "output_type": "execute_result",
          "data": {
            "text/plain": [
              "{'a': 'apple', 'b': 'banana', 'c': '체리'}"
            ]
          },
          "metadata": {},
          "execution_count": 5
        }
      ]
    },
    {
      "cell_type": "code",
      "source": [
        "d = {'a': 'apple', 'b': 'banana', 'c': '체리'}\n",
        "d.pop('c')\n",
        "d"
      ],
      "metadata": {
        "colab": {
          "base_uri": "https://localhost:8080/"
        },
        "id": "s9G65MSlZ7kG",
        "outputId": "06f7a517-619e-4feb-9e38-e2afd2a449ac"
      },
      "execution_count": 2,
      "outputs": [
        {
          "output_type": "execute_result",
          "data": {
            "text/plain": [
              "{'a': 'apple', 'b': 'banana'}"
            ]
          },
          "metadata": {},
          "execution_count": 2
        }
      ]
    },
    {
      "cell_type": "code",
      "source": [
        "# mutable : 리스트, 셋, 딕셔너리\n",
        "# immutable : 튜플, (정수, 실수, 문자열)\n",
        "\n",
        "me = [1,2,3]\n",
        "id(me)    # 실제 데이터가 저장된 메모리 위치"
      ],
      "metadata": {
        "colab": {
          "base_uri": "https://localhost:8080/"
        },
        "id": "jvg2nZYpaMtq",
        "outputId": "01500ef2-cc2a-4cb4-c546-b3b0d1316b29"
      },
      "execution_count": 3,
      "outputs": [
        {
          "output_type": "execute_result",
          "data": {
            "text/plain": [
              "140032340671696"
            ]
          },
          "metadata": {},
          "execution_count": 3
        }
      ]
    },
    {
      "cell_type": "code",
      "source": [
        "me.append(4)\n",
        "id(me)    # 메모리의 실제 주소가 바뀌지 않는다."
      ],
      "metadata": {
        "colab": {
          "base_uri": "https://localhost:8080/"
        },
        "id": "zmzbZlbxa0Gq",
        "outputId": "bbf087bc-7046-49a3-b4b7-3230c5939bb1"
      },
      "execution_count": 4,
      "outputs": [
        {
          "output_type": "execute_result",
          "data": {
            "text/plain": [
              "140032340671696"
            ]
          },
          "metadata": {},
          "execution_count": 4
        }
      ]
    },
    {
      "cell_type": "code",
      "source": [
        "me"
      ],
      "metadata": {
        "colab": {
          "base_uri": "https://localhost:8080/"
        },
        "id": "YTP6pZlRbNgr",
        "outputId": "6f1f2ce1-8f1c-4c8a-bcec-16c0d869a340"
      },
      "execution_count": 5,
      "outputs": [
        {
          "output_type": "execute_result",
          "data": {
            "text/plain": [
              "[1, 2, 3, 4]"
            ]
          },
          "metadata": {},
          "execution_count": 5
        }
      ]
    },
    {
      "cell_type": "code",
      "source": [
        "# immutable\n",
        "me = 10\n",
        "id(me)\n"
      ],
      "metadata": {
        "colab": {
          "base_uri": "https://localhost:8080/"
        },
        "id": "_2pbLMYBbP9I",
        "outputId": "8504b726-6db3-4631-e246-948e0cd1dde6"
      },
      "execution_count": 9,
      "outputs": [
        {
          "output_type": "execute_result",
          "data": {
            "text/plain": [
              "94127081392928"
            ]
          },
          "metadata": {},
          "execution_count": 9
        }
      ]
    },
    {
      "cell_type": "code",
      "source": [
        "me += 1     # me = me + 1   ,(자바)me ++\n",
        "id(me)      # 메모리의 주소가 바뀐것을 확인할 수 있다."
      ],
      "metadata": {
        "colab": {
          "base_uri": "https://localhost:8080/"
        },
        "id": "bKn_8qCwbanb",
        "outputId": "145b6b90-e89b-40a8-e3c3-1e06587c24a2"
      },
      "execution_count": 10,
      "outputs": [
        {
          "output_type": "execute_result",
          "data": {
            "text/plain": [
              "94127081392960"
            ]
          },
          "metadata": {},
          "execution_count": 10
        }
      ]
    }
  ]
}