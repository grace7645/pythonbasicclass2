{
  "nbformat": 4,
  "nbformat_minor": 0,
  "metadata": {
    "colab": {
      "name": "[2] Python Basic Day2.ipynb",
      "provenance": [],
      "collapsed_sections": [],
      "authorship_tag": "ABX9TyOgSotu1wQp8/V56nsN/4AG",
      "include_colab_link": true
    },
    "kernelspec": {
      "name": "python3",
      "display_name": "Python 3"
    },
    "language_info": {
      "name": "python"
    }
  },
  "cells": [
    {
      "cell_type": "markdown",
      "metadata": {
        "id": "view-in-github",
        "colab_type": "text"
      },
      "source": [
        "<a href=\"https://colab.research.google.com/github/grace7645/pythonbasicclass2/blob/main/%5B2%5D_Python_Basic_Day2.ipynb\" target=\"_parent\"><img src=\"https://colab.research.google.com/assets/colab-badge.svg\" alt=\"Open In Colab\"/></a>"
      ]
    },
    {
      "cell_type": "code",
      "execution_count": null,
      "metadata": {
        "id": "5NgDYnPVagbe"
      },
      "outputs": [],
      "source": [
        "# p.33 3 기본 자료형 \n",
        "\n",
        "int 정수    1,2,3,4\n",
        "float 실수  3.14, 2.18\n",
        "bool 논리   True, False\n",
        "str 문자열  '홍길동', '슈가'"
      ]
    },
    {
      "cell_type": "code",
      "source": [
        "# 1. 정수 int\n",
        "\n",
        "int(1.9)"
      ],
      "metadata": {
        "colab": {
          "base_uri": "https://localhost:8080/"
        },
        "id": "b7JiOhgf00ic",
        "outputId": "332c2dab-1f7b-499c-fdae-36c7eb1fe482"
      },
      "execution_count": 1,
      "outputs": [
        {
          "output_type": "execute_result",
          "data": {
            "text/plain": [
              "1"
            ]
          },
          "metadata": {},
          "execution_count": 1
        }
      ]
    },
    {
      "cell_type": "code",
      "source": [
        "int(True)"
      ],
      "metadata": {
        "colab": {
          "base_uri": "https://localhost:8080/"
        },
        "id": "jvD50eqWQhwh",
        "outputId": "d18a2d89-f598-4335-a9c8-11f2a2bd2a77"
      },
      "execution_count": 2,
      "outputs": [
        {
          "output_type": "execute_result",
          "data": {
            "text/plain": [
              "1"
            ]
          },
          "metadata": {},
          "execution_count": 2
        }
      ]
    },
    {
      "cell_type": "code",
      "source": [
        "int(False)"
      ],
      "metadata": {
        "colab": {
          "base_uri": "https://localhost:8080/"
        },
        "id": "Peen3weqQjzz",
        "outputId": "e95b47a9-e573-4668-d9e2-24bf8928cb9a"
      },
      "execution_count": 3,
      "outputs": [
        {
          "output_type": "execute_result",
          "data": {
            "text/plain": [
              "0"
            ]
          },
          "metadata": {},
          "execution_count": 3
        }
      ]
    },
    {
      "cell_type": "code",
      "source": [
        "int('100')\n",
        "int('200')\n",
        "\n",
        "# 큰 따옴표 또는 작은 따옴표 안에 있는 숫자는 숫자처럼 보이지만 문자다\n",
        "# int() 괄호 안에 숫자처럼 보이는 문자를 넣어주면 짙짜 숫자로 변환된다"
      ],
      "metadata": {
        "colab": {
          "base_uri": "https://localhost:8080/"
        },
        "id": "i1xlMaWXQvg8",
        "outputId": "2a4750cb-2c6e-4976-ca47-437125e6af17"
      },
      "execution_count": 4,
      "outputs": [
        {
          "output_type": "execute_result",
          "data": {
            "text/plain": [
              "200"
            ]
          },
          "metadata": {},
          "execution_count": 4
        }
      ]
    },
    {
      "cell_type": "code",
      "source": [
        "# 2. 실수 float\n",
        "\n",
        "float(1)"
      ],
      "metadata": {
        "colab": {
          "base_uri": "https://localhost:8080/"
        },
        "id": "4aAXJiZFRNcN",
        "outputId": "06df438c-884f-483e-ec2f-861c1ad7c93b"
      },
      "execution_count": 8,
      "outputs": [
        {
          "output_type": "execute_result",
          "data": {
            "text/plain": [
              "1.0"
            ]
          },
          "metadata": {},
          "execution_count": 8
        }
      ]
    },
    {
      "cell_type": "code",
      "source": [
        "float(True)"
      ],
      "metadata": {
        "colab": {
          "base_uri": "https://localhost:8080/"
        },
        "id": "Qxqb5y2BSQdp",
        "outputId": "7dc11ff4-e72d-47a9-e38e-6ee4dd4ebc7e"
      },
      "execution_count": 9,
      "outputs": [
        {
          "output_type": "execute_result",
          "data": {
            "text/plain": [
              "1.0"
            ]
          },
          "metadata": {},
          "execution_count": 9
        }
      ]
    },
    {
      "cell_type": "code",
      "source": [
        "float(False)"
      ],
      "metadata": {
        "colab": {
          "base_uri": "https://localhost:8080/"
        },
        "id": "MFH1LTGWSSQd",
        "outputId": "9b6d2683-e2c8-4463-8f0f-a1e9b967497e"
      },
      "execution_count": 10,
      "outputs": [
        {
          "output_type": "execute_result",
          "data": {
            "text/plain": [
              "0.0"
            ]
          },
          "metadata": {},
          "execution_count": 10
        }
      ]
    },
    {
      "cell_type": "code",
      "source": [
        "float('3.14')"
      ],
      "metadata": {
        "colab": {
          "base_uri": "https://localhost:8080/"
        },
        "id": "6Fr7D43oST-m",
        "outputId": "3f404d20-4b41-43dd-f55c-a835d559effe"
      },
      "execution_count": 11,
      "outputs": [
        {
          "output_type": "execute_result",
          "data": {
            "text/plain": [
              "3.14"
            ]
          },
          "metadata": {},
          "execution_count": 11
        }
      ]
    },
    {
      "cell_type": "code",
      "source": [
        "# 3. 논리 bool, boolean (True or False 만 들어갈 수 있음)\n",
        "\n",
        "bool(0)"
      ],
      "metadata": {
        "colab": {
          "base_uri": "https://localhost:8080/"
        },
        "id": "a81DuXnASV7A",
        "outputId": "266845cf-7bf8-4925-8e6e-a6d05dc7cf34"
      },
      "execution_count": 13,
      "outputs": [
        {
          "output_type": "execute_result",
          "data": {
            "text/plain": [
              "False"
            ]
          },
          "metadata": {},
          "execution_count": 13
        }
      ]
    },
    {
      "cell_type": "code",
      "source": [
        "bool(1)\n",
        "bool(3)"
      ],
      "metadata": {
        "colab": {
          "base_uri": "https://localhost:8080/"
        },
        "id": "Y5WIpbRdShVS",
        "outputId": "fa2babdd-b6fb-415b-f179-41cc5cf51930"
      },
      "execution_count": 18,
      "outputs": [
        {
          "output_type": "execute_result",
          "data": {
            "text/plain": [
              "True"
            ]
          },
          "metadata": {},
          "execution_count": 18
        }
      ]
    },
    {
      "cell_type": "code",
      "source": [
        "bool('')"
      ],
      "metadata": {
        "colab": {
          "base_uri": "https://localhost:8080/"
        },
        "id": "-b4V3ZLJTylF",
        "outputId": "88c7341c-e32e-43be-a5d8-315bde4e9f71"
      },
      "execution_count": 17,
      "outputs": [
        {
          "output_type": "execute_result",
          "data": {
            "text/plain": [
              "False"
            ]
          },
          "metadata": {},
          "execution_count": 17
        }
      ]
    },
    {
      "cell_type": "code",
      "source": [
        "bool('1')"
      ],
      "metadata": {
        "colab": {
          "base_uri": "https://localhost:8080/"
        },
        "id": "TdyNHRL2T_Fk",
        "outputId": "71de7235-18bc-42ef-e61f-7491aba1da2d"
      },
      "execution_count": 19,
      "outputs": [
        {
          "output_type": "execute_result",
          "data": {
            "text/plain": [
              "True"
            ]
          },
          "metadata": {},
          "execution_count": 19
        }
      ]
    },
    {
      "cell_type": "code",
      "source": [
        "bool([1,2,3])"
      ],
      "metadata": {
        "colab": {
          "base_uri": "https://localhost:8080/"
        },
        "id": "HmAvaBtAUBHQ",
        "outputId": "9fe7550b-4d6b-4e26-946b-589b2fbd7d95"
      },
      "execution_count": 20,
      "outputs": [
        {
          "output_type": "execute_result",
          "data": {
            "text/plain": [
              "True"
            ]
          },
          "metadata": {},
          "execution_count": 20
        }
      ]
    },
    {
      "cell_type": "code",
      "source": [
        "# 4. 문자열 srt (string)\n",
        "\n",
        "a = '대한\\n한국'\n",
        "b = \"한국\"\n",
        "print(a)\n",
        "\n",
        "a = '''대한\n",
        "민국'''\n",
        "b = \"\"\"대한\n",
        "민국\"\"\"\n",
        "print(a)"
      ],
      "metadata": {
        "colab": {
          "base_uri": "https://localhost:8080/"
        },
        "id": "UVmpFfyGUmU4",
        "outputId": "f0fd4647-8a5e-4a51-be5b-65571c3e0c9a"
      },
      "execution_count": 27,
      "outputs": [
        {
          "output_type": "stream",
          "name": "stdout",
          "text": [
            "대한\n",
            "한국\n",
            "대한\n",
            "민국\n"
          ]
        }
      ]
    },
    {
      "cell_type": "code",
      "source": [
        "str(100)"
      ],
      "metadata": {
        "colab": {
          "base_uri": "https://localhost:8080/",
          "height": 35
        },
        "id": "MocTA7GBUxLY",
        "outputId": "89002781-eb21-4469-f588-c4f0a5b4bb68"
      },
      "execution_count": 21,
      "outputs": [
        {
          "output_type": "execute_result",
          "data": {
            "application/vnd.google.colaboratory.intrinsic+json": {
              "type": "string"
            },
            "text/plain": [
              "'100'"
            ]
          },
          "metadata": {},
          "execution_count": 21
        }
      ]
    },
    {
      "cell_type": "code",
      "source": [
        "str(True)"
      ],
      "metadata": {
        "colab": {
          "base_uri": "https://localhost:8080/",
          "height": 35
        },
        "id": "z2Gu-ptxUzl1",
        "outputId": "91ee532e-fc42-486f-b91f-6fde3a1af089"
      },
      "execution_count": 22,
      "outputs": [
        {
          "output_type": "execute_result",
          "data": {
            "application/vnd.google.colaboratory.intrinsic+json": {
              "type": "string"
            },
            "text/plain": [
              "'True'"
            ]
          },
          "metadata": {},
          "execution_count": 22
        }
      ]
    },
    {
      "cell_type": "code",
      "source": [
        "str(False)"
      ],
      "metadata": {
        "colab": {
          "base_uri": "https://localhost:8080/",
          "height": 35
        },
        "id": "HSdwytq9U32H",
        "outputId": "29a3aa75-94da-4c72-947b-faf615e5b72f"
      },
      "execution_count": 23,
      "outputs": [
        {
          "output_type": "execute_result",
          "data": {
            "application/vnd.google.colaboratory.intrinsic+json": {
              "type": "string"
            },
            "text/plain": [
              "'False'"
            ]
          },
          "metadata": {},
          "execution_count": 23
        }
      ]
    },
    {
      "cell_type": "code",
      "source": [
        "str(3.14)"
      ],
      "metadata": {
        "colab": {
          "base_uri": "https://localhost:8080/",
          "height": 35
        },
        "id": "yDK_aimOU6-P",
        "outputId": "54940fdf-a0fc-4c57-fb00-44e5fafa6bcc"
      },
      "execution_count": 24,
      "outputs": [
        {
          "output_type": "execute_result",
          "data": {
            "application/vnd.google.colaboratory.intrinsic+json": {
              "type": "string"
            },
            "text/plain": [
              "'3.14'"
            ]
          },
          "metadata": {},
          "execution_count": 24
        }
      ]
    },
    {
      "cell_type": "code",
      "source": [
        "# 문자열 인덱싱 (indexing)\n",
        "# 인덱싱은 문자열을 구성하는 모든 문자에 부여한 고유의 번호이다.\n",
        "\n",
        "s = 'hello'\n",
        "print(s[4])       # 인덱스의 시작은 0이다."
      ],
      "metadata": {
        "id": "jYvdZfHOU9Mc"
      },
      "execution_count": null,
      "outputs": []
    }
  ]
}